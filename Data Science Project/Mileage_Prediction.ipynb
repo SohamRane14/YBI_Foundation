{
 "cells": [
  {
   "cell_type": "markdown",
   "id": "6ee66e46-80ef-484e-a16c-813e49dfe05f",
   "metadata": {},
   "source": [
    "<h1>Mileage Prediction-Regression Analysis</h1>"
   ]
  },
  {
   "cell_type": "markdown",
   "id": "effe9e4c-4e42-4d54-8c07-378f7ce45756",
   "metadata": {},
   "source": [
    "<b>Source:</b>\n",
    "This Dataset was taken from the StatLib Library which is maintained at Carnegie Mellon University. The dataset was used in the 1983 American Statistical Association Exposition.\n",
    "<br>\n",
    "<b>Data Set Information:</b>\n",
    "\n",
    "This dataset is a slightly modified version of the dataset provided in the StatLib library. In line with the use by Ross Quinlan (1993) in predicting the attribute \"mpg\", 8 of the original instances were removed because they had unknown values for the \"mpg\" attribute. The original dataset is available in the file \"auto-mpg.data-original”.<br>\n",
    "\n",
    "\"The data concerns city-cycle fuel consumption in miles per gallon, to be predicted in terms of 3 multivalued discrete and 5 continuous\n",
    "attributes.” (Quinlan, 1993)\n",
    "\n",
    "<b>Attribute Information:</b>\n",
    "<ul>\n",
    "    <ol>1. mpg: continuous</ol>\n",
    "    <ol>2. cylinders: multi-valued discrete</ol>\n",
    "    <ol>3. displacement: continuous</ol>\n",
    "    <ol>4. horsepower: continuous</ol>\n",
    "    <ol>5. weight: continuous</ol>\n",
    "    <ol>6. acceleration: continuous</ol>\n",
    "    <ol>7. model year: multi-valued discrete</ol>\n",
    "    <ol>8. origin: multi-valued discrete</ol>\n",
    "    <ol>9. car name: string (unique for each instance)</ol>\n",
    "</ul>"
   ]
  },
  {
   "cell_type": "markdown",
   "id": "b0cbb53f-50b4-441d-bb30-cb37d5a2920d",
   "metadata": {},
   "source": [
    "<h2>Import Library</h2>"
   ]
  },
  {
   "cell_type": "code",
   "execution_count": 1,
   "id": "90734438-60dd-469e-bd4f-ee4fe0507646",
   "metadata": {},
   "outputs": [],
   "source": [
    "import pandas as pd\n",
    "import numpy as np\n",
    "import matplotlib.pyplot as plt\n",
    "import seaborn as sns"
   ]
  },
  {
   "cell_type": "markdown",
   "id": "f6ea0a34-e953-4892-877f-74e8765d75a4",
   "metadata": {},
   "source": [
    "<h2>Import Data</h2>"
   ]
  },
  {
   "cell_type": "code",
   "execution_count": 2,
   "id": "cf3ee17a-21bd-4db3-b55b-d2f3eb29e734",
   "metadata": {},
   "outputs": [],
   "source": [
    "df=pd.read_csv('https://raw.githubusercontent.com/YBIFoundation/Dataset/main/MPG.csv')"
   ]
  },
  {
   "cell_type": "code",
   "execution_count": 3,
   "id": "0c0b104b-14cc-4bf0-a986-50709d212e02",
   "metadata": {},
   "outputs": [
    {
     "data": {
      "text/html": [
       "<div>\n",
       "<style scoped>\n",
       "    .dataframe tbody tr th:only-of-type {\n",
       "        vertical-align: middle;\n",
       "    }\n",
       "\n",
       "    .dataframe tbody tr th {\n",
       "        vertical-align: top;\n",
       "    }\n",
       "\n",
       "    .dataframe thead th {\n",
       "        text-align: right;\n",
       "    }\n",
       "</style>\n",
       "<table border=\"1\" class=\"dataframe\">\n",
       "  <thead>\n",
       "    <tr style=\"text-align: right;\">\n",
       "      <th></th>\n",
       "      <th>mpg</th>\n",
       "      <th>cylinders</th>\n",
       "      <th>displacement</th>\n",
       "      <th>horsepower</th>\n",
       "      <th>weight</th>\n",
       "      <th>acceleration</th>\n",
       "      <th>model_year</th>\n",
       "      <th>origin</th>\n",
       "      <th>name</th>\n",
       "    </tr>\n",
       "  </thead>\n",
       "  <tbody>\n",
       "    <tr>\n",
       "      <th>0</th>\n",
       "      <td>18.0</td>\n",
       "      <td>8</td>\n",
       "      <td>307.0</td>\n",
       "      <td>130.0</td>\n",
       "      <td>3504</td>\n",
       "      <td>12.0</td>\n",
       "      <td>70</td>\n",
       "      <td>usa</td>\n",
       "      <td>chevrolet chevelle malibu</td>\n",
       "    </tr>\n",
       "    <tr>\n",
       "      <th>1</th>\n",
       "      <td>15.0</td>\n",
       "      <td>8</td>\n",
       "      <td>350.0</td>\n",
       "      <td>165.0</td>\n",
       "      <td>3693</td>\n",
       "      <td>11.5</td>\n",
       "      <td>70</td>\n",
       "      <td>usa</td>\n",
       "      <td>buick skylark 320</td>\n",
       "    </tr>\n",
       "    <tr>\n",
       "      <th>2</th>\n",
       "      <td>18.0</td>\n",
       "      <td>8</td>\n",
       "      <td>318.0</td>\n",
       "      <td>150.0</td>\n",
       "      <td>3436</td>\n",
       "      <td>11.0</td>\n",
       "      <td>70</td>\n",
       "      <td>usa</td>\n",
       "      <td>plymouth satellite</td>\n",
       "    </tr>\n",
       "    <tr>\n",
       "      <th>3</th>\n",
       "      <td>16.0</td>\n",
       "      <td>8</td>\n",
       "      <td>304.0</td>\n",
       "      <td>150.0</td>\n",
       "      <td>3433</td>\n",
       "      <td>12.0</td>\n",
       "      <td>70</td>\n",
       "      <td>usa</td>\n",
       "      <td>amc rebel sst</td>\n",
       "    </tr>\n",
       "    <tr>\n",
       "      <th>4</th>\n",
       "      <td>17.0</td>\n",
       "      <td>8</td>\n",
       "      <td>302.0</td>\n",
       "      <td>140.0</td>\n",
       "      <td>3449</td>\n",
       "      <td>10.5</td>\n",
       "      <td>70</td>\n",
       "      <td>usa</td>\n",
       "      <td>ford torino</td>\n",
       "    </tr>\n",
       "  </tbody>\n",
       "</table>\n",
       "</div>"
      ],
      "text/plain": [
       "    mpg  cylinders  displacement  horsepower  weight  acceleration  \\\n",
       "0  18.0          8         307.0       130.0    3504          12.0   \n",
       "1  15.0          8         350.0       165.0    3693          11.5   \n",
       "2  18.0          8         318.0       150.0    3436          11.0   \n",
       "3  16.0          8         304.0       150.0    3433          12.0   \n",
       "4  17.0          8         302.0       140.0    3449          10.5   \n",
       "\n",
       "   model_year origin                       name  \n",
       "0          70    usa  chevrolet chevelle malibu  \n",
       "1          70    usa          buick skylark 320  \n",
       "2          70    usa         plymouth satellite  \n",
       "3          70    usa              amc rebel sst  \n",
       "4          70    usa                ford torino  "
      ]
     },
     "execution_count": 3,
     "metadata": {},
     "output_type": "execute_result"
    }
   ],
   "source": [
    "df.head()"
   ]
  },
  {
   "cell_type": "code",
   "execution_count": 4,
   "id": "f37d6d1e-25e6-4d3e-948a-8d665c39dc31",
   "metadata": {},
   "outputs": [
    {
     "data": {
      "text/plain": [
       "mpg             129\n",
       "cylinders         5\n",
       "displacement     82\n",
       "horsepower       93\n",
       "weight          351\n",
       "acceleration     95\n",
       "model_year       13\n",
       "origin            3\n",
       "name            305\n",
       "dtype: int64"
      ]
     },
     "execution_count": 4,
     "metadata": {},
     "output_type": "execute_result"
    }
   ],
   "source": [
    "df.nunique()"
   ]
  },
  {
   "cell_type": "markdown",
   "id": "994fae1b-0d80-4db7-a2f5-ec7721fe4e2b",
   "metadata": {},
   "source": [
    "<h2>Data Preprocessing</h2>"
   ]
  },
  {
   "cell_type": "code",
   "execution_count": 5,
   "id": "54f0e2aa-0b1a-45cd-b18d-cc9a35996b5e",
   "metadata": {},
   "outputs": [
    {
     "name": "stdout",
     "output_type": "stream",
     "text": [
      "<class 'pandas.core.frame.DataFrame'>\n",
      "RangeIndex: 398 entries, 0 to 397\n",
      "Data columns (total 9 columns):\n",
      " #   Column        Non-Null Count  Dtype  \n",
      "---  ------        --------------  -----  \n",
      " 0   mpg           398 non-null    float64\n",
      " 1   cylinders     398 non-null    int64  \n",
      " 2   displacement  398 non-null    float64\n",
      " 3   horsepower    392 non-null    float64\n",
      " 4   weight        398 non-null    int64  \n",
      " 5   acceleration  398 non-null    float64\n",
      " 6   model_year    398 non-null    int64  \n",
      " 7   origin        398 non-null    object \n",
      " 8   name          398 non-null    object \n",
      "dtypes: float64(4), int64(3), object(2)\n",
      "memory usage: 28.1+ KB\n"
     ]
    }
   ],
   "source": [
    "df.info()"
   ]
  },
  {
   "cell_type": "code",
   "execution_count": 6,
   "id": "a3b23db8-8569-4fd1-9f57-87da6e4ba193",
   "metadata": {},
   "outputs": [
    {
     "data": {
      "text/html": [
       "<div>\n",
       "<style scoped>\n",
       "    .dataframe tbody tr th:only-of-type {\n",
       "        vertical-align: middle;\n",
       "    }\n",
       "\n",
       "    .dataframe tbody tr th {\n",
       "        vertical-align: top;\n",
       "    }\n",
       "\n",
       "    .dataframe thead th {\n",
       "        text-align: right;\n",
       "    }\n",
       "</style>\n",
       "<table border=\"1\" class=\"dataframe\">\n",
       "  <thead>\n",
       "    <tr style=\"text-align: right;\">\n",
       "      <th></th>\n",
       "      <th>mpg</th>\n",
       "      <th>cylinders</th>\n",
       "      <th>displacement</th>\n",
       "      <th>horsepower</th>\n",
       "      <th>weight</th>\n",
       "      <th>acceleration</th>\n",
       "      <th>model_year</th>\n",
       "    </tr>\n",
       "  </thead>\n",
       "  <tbody>\n",
       "    <tr>\n",
       "      <th>count</th>\n",
       "      <td>398.000000</td>\n",
       "      <td>398.000000</td>\n",
       "      <td>398.000000</td>\n",
       "      <td>392.000000</td>\n",
       "      <td>398.000000</td>\n",
       "      <td>398.000000</td>\n",
       "      <td>398.000000</td>\n",
       "    </tr>\n",
       "    <tr>\n",
       "      <th>mean</th>\n",
       "      <td>23.514573</td>\n",
       "      <td>5.454774</td>\n",
       "      <td>193.425879</td>\n",
       "      <td>104.469388</td>\n",
       "      <td>2970.424623</td>\n",
       "      <td>15.568090</td>\n",
       "      <td>76.010050</td>\n",
       "    </tr>\n",
       "    <tr>\n",
       "      <th>std</th>\n",
       "      <td>7.815984</td>\n",
       "      <td>1.701004</td>\n",
       "      <td>104.269838</td>\n",
       "      <td>38.491160</td>\n",
       "      <td>846.841774</td>\n",
       "      <td>2.757689</td>\n",
       "      <td>3.697627</td>\n",
       "    </tr>\n",
       "    <tr>\n",
       "      <th>min</th>\n",
       "      <td>9.000000</td>\n",
       "      <td>3.000000</td>\n",
       "      <td>68.000000</td>\n",
       "      <td>46.000000</td>\n",
       "      <td>1613.000000</td>\n",
       "      <td>8.000000</td>\n",
       "      <td>70.000000</td>\n",
       "    </tr>\n",
       "    <tr>\n",
       "      <th>25%</th>\n",
       "      <td>17.500000</td>\n",
       "      <td>4.000000</td>\n",
       "      <td>104.250000</td>\n",
       "      <td>75.000000</td>\n",
       "      <td>2223.750000</td>\n",
       "      <td>13.825000</td>\n",
       "      <td>73.000000</td>\n",
       "    </tr>\n",
       "    <tr>\n",
       "      <th>50%</th>\n",
       "      <td>23.000000</td>\n",
       "      <td>4.000000</td>\n",
       "      <td>148.500000</td>\n",
       "      <td>93.500000</td>\n",
       "      <td>2803.500000</td>\n",
       "      <td>15.500000</td>\n",
       "      <td>76.000000</td>\n",
       "    </tr>\n",
       "    <tr>\n",
       "      <th>75%</th>\n",
       "      <td>29.000000</td>\n",
       "      <td>8.000000</td>\n",
       "      <td>262.000000</td>\n",
       "      <td>126.000000</td>\n",
       "      <td>3608.000000</td>\n",
       "      <td>17.175000</td>\n",
       "      <td>79.000000</td>\n",
       "    </tr>\n",
       "    <tr>\n",
       "      <th>max</th>\n",
       "      <td>46.600000</td>\n",
       "      <td>8.000000</td>\n",
       "      <td>455.000000</td>\n",
       "      <td>230.000000</td>\n",
       "      <td>5140.000000</td>\n",
       "      <td>24.800000</td>\n",
       "      <td>82.000000</td>\n",
       "    </tr>\n",
       "  </tbody>\n",
       "</table>\n",
       "</div>"
      ],
      "text/plain": [
       "              mpg   cylinders  displacement  horsepower       weight  \\\n",
       "count  398.000000  398.000000    398.000000  392.000000   398.000000   \n",
       "mean    23.514573    5.454774    193.425879  104.469388  2970.424623   \n",
       "std      7.815984    1.701004    104.269838   38.491160   846.841774   \n",
       "min      9.000000    3.000000     68.000000   46.000000  1613.000000   \n",
       "25%     17.500000    4.000000    104.250000   75.000000  2223.750000   \n",
       "50%     23.000000    4.000000    148.500000   93.500000  2803.500000   \n",
       "75%     29.000000    8.000000    262.000000  126.000000  3608.000000   \n",
       "max     46.600000    8.000000    455.000000  230.000000  5140.000000   \n",
       "\n",
       "       acceleration  model_year  \n",
       "count    398.000000  398.000000  \n",
       "mean      15.568090   76.010050  \n",
       "std        2.757689    3.697627  \n",
       "min        8.000000   70.000000  \n",
       "25%       13.825000   73.000000  \n",
       "50%       15.500000   76.000000  \n",
       "75%       17.175000   79.000000  \n",
       "max       24.800000   82.000000  "
      ]
     },
     "execution_count": 6,
     "metadata": {},
     "output_type": "execute_result"
    }
   ],
   "source": [
    "df.describe()"
   ]
  },
  {
   "cell_type": "code",
   "execution_count": 7,
   "id": "1dc77a26-e638-4fc0-ac2d-e7018e54cd81",
   "metadata": {},
   "outputs": [
    {
     "data": {
      "text/html": [
       "<div>\n",
       "<style scoped>\n",
       "    .dataframe tbody tr th:only-of-type {\n",
       "        vertical-align: middle;\n",
       "    }\n",
       "\n",
       "    .dataframe tbody tr th {\n",
       "        vertical-align: top;\n",
       "    }\n",
       "\n",
       "    .dataframe thead th {\n",
       "        text-align: right;\n",
       "    }\n",
       "</style>\n",
       "<table border=\"1\" class=\"dataframe\">\n",
       "  <thead>\n",
       "    <tr style=\"text-align: right;\">\n",
       "      <th></th>\n",
       "      <th>mpg</th>\n",
       "      <th>cylinders</th>\n",
       "      <th>displacement</th>\n",
       "      <th>horsepower</th>\n",
       "      <th>weight</th>\n",
       "      <th>acceleration</th>\n",
       "      <th>model_year</th>\n",
       "    </tr>\n",
       "  </thead>\n",
       "  <tbody>\n",
       "    <tr>\n",
       "      <th>mpg</th>\n",
       "      <td>1.000000</td>\n",
       "      <td>-0.775396</td>\n",
       "      <td>-0.804203</td>\n",
       "      <td>-0.778427</td>\n",
       "      <td>-0.831741</td>\n",
       "      <td>0.420289</td>\n",
       "      <td>0.579267</td>\n",
       "    </tr>\n",
       "    <tr>\n",
       "      <th>cylinders</th>\n",
       "      <td>-0.775396</td>\n",
       "      <td>1.000000</td>\n",
       "      <td>0.950721</td>\n",
       "      <td>0.842983</td>\n",
       "      <td>0.896017</td>\n",
       "      <td>-0.505419</td>\n",
       "      <td>-0.348746</td>\n",
       "    </tr>\n",
       "    <tr>\n",
       "      <th>displacement</th>\n",
       "      <td>-0.804203</td>\n",
       "      <td>0.950721</td>\n",
       "      <td>1.000000</td>\n",
       "      <td>0.897257</td>\n",
       "      <td>0.932824</td>\n",
       "      <td>-0.543684</td>\n",
       "      <td>-0.370164</td>\n",
       "    </tr>\n",
       "    <tr>\n",
       "      <th>horsepower</th>\n",
       "      <td>-0.778427</td>\n",
       "      <td>0.842983</td>\n",
       "      <td>0.897257</td>\n",
       "      <td>1.000000</td>\n",
       "      <td>0.864538</td>\n",
       "      <td>-0.689196</td>\n",
       "      <td>-0.416361</td>\n",
       "    </tr>\n",
       "    <tr>\n",
       "      <th>weight</th>\n",
       "      <td>-0.831741</td>\n",
       "      <td>0.896017</td>\n",
       "      <td>0.932824</td>\n",
       "      <td>0.864538</td>\n",
       "      <td>1.000000</td>\n",
       "      <td>-0.417457</td>\n",
       "      <td>-0.306564</td>\n",
       "    </tr>\n",
       "    <tr>\n",
       "      <th>acceleration</th>\n",
       "      <td>0.420289</td>\n",
       "      <td>-0.505419</td>\n",
       "      <td>-0.543684</td>\n",
       "      <td>-0.689196</td>\n",
       "      <td>-0.417457</td>\n",
       "      <td>1.000000</td>\n",
       "      <td>0.288137</td>\n",
       "    </tr>\n",
       "    <tr>\n",
       "      <th>model_year</th>\n",
       "      <td>0.579267</td>\n",
       "      <td>-0.348746</td>\n",
       "      <td>-0.370164</td>\n",
       "      <td>-0.416361</td>\n",
       "      <td>-0.306564</td>\n",
       "      <td>0.288137</td>\n",
       "      <td>1.000000</td>\n",
       "    </tr>\n",
       "  </tbody>\n",
       "</table>\n",
       "</div>"
      ],
      "text/plain": [
       "                   mpg  cylinders  displacement  horsepower    weight  \\\n",
       "mpg           1.000000  -0.775396     -0.804203   -0.778427 -0.831741   \n",
       "cylinders    -0.775396   1.000000      0.950721    0.842983  0.896017   \n",
       "displacement -0.804203   0.950721      1.000000    0.897257  0.932824   \n",
       "horsepower   -0.778427   0.842983      0.897257    1.000000  0.864538   \n",
       "weight       -0.831741   0.896017      0.932824    0.864538  1.000000   \n",
       "acceleration  0.420289  -0.505419     -0.543684   -0.689196 -0.417457   \n",
       "model_year    0.579267  -0.348746     -0.370164   -0.416361 -0.306564   \n",
       "\n",
       "              acceleration  model_year  \n",
       "mpg               0.420289    0.579267  \n",
       "cylinders        -0.505419   -0.348746  \n",
       "displacement     -0.543684   -0.370164  \n",
       "horsepower       -0.689196   -0.416361  \n",
       "weight           -0.417457   -0.306564  \n",
       "acceleration      1.000000    0.288137  \n",
       "model_year        0.288137    1.000000  "
      ]
     },
     "execution_count": 7,
     "metadata": {},
     "output_type": "execute_result"
    }
   ],
   "source": [
    "df.corr()"
   ]
  },
  {
   "cell_type": "markdown",
   "id": "4ce898df-8a30-4c14-ada4-2af5d74a8284",
   "metadata": {},
   "source": [
    "<h2>Removing Missing Values</h2>"
   ]
  },
  {
   "cell_type": "code",
   "execution_count": 8,
   "id": "d535d807-a3f7-4910-9a08-962edb1c77b8",
   "metadata": {},
   "outputs": [],
   "source": [
    "df=df.dropna()"
   ]
  },
  {
   "cell_type": "code",
   "execution_count": 9,
   "id": "374f738d-519d-4e96-819e-be445309fde6",
   "metadata": {},
   "outputs": [
    {
     "name": "stdout",
     "output_type": "stream",
     "text": [
      "<class 'pandas.core.frame.DataFrame'>\n",
      "Int64Index: 392 entries, 0 to 397\n",
      "Data columns (total 9 columns):\n",
      " #   Column        Non-Null Count  Dtype  \n",
      "---  ------        --------------  -----  \n",
      " 0   mpg           392 non-null    float64\n",
      " 1   cylinders     392 non-null    int64  \n",
      " 2   displacement  392 non-null    float64\n",
      " 3   horsepower    392 non-null    float64\n",
      " 4   weight        392 non-null    int64  \n",
      " 5   acceleration  392 non-null    float64\n",
      " 6   model_year    392 non-null    int64  \n",
      " 7   origin        392 non-null    object \n",
      " 8   name          392 non-null    object \n",
      "dtypes: float64(4), int64(3), object(2)\n",
      "memory usage: 30.6+ KB\n"
     ]
    }
   ],
   "source": [
    "df.info()"
   ]
  },
  {
   "cell_type": "markdown",
   "id": "1da07fea-a9b7-4d0e-b011-618d01e13ed6",
   "metadata": {},
   "source": [
    "<h2>Data Visualization</h2>"
   ]
  },
  {
   "cell_type": "code",
   "execution_count": 10,
   "id": "7f27fc5b-5a67-41a8-83e1-270241c18275",
   "metadata": {},
   "outputs": [
    {
     "data": {
      "image/png": "[encoded data removed]",
      "text/plain": [
       "<Figure size 1250x250 with 6 Axes>"
      ]
     },
     "metadata": {},
     "output_type": "display_data"
    }
   ],
   "source": [
    "sns.pairplot(df,x_vars=['displacement','horsepower','weight','acceleration','mpg'],y_vars=['mpg']);"
   ]
  },
  {
   "cell_type": "code",
   "execution_count": 11,
   "id": "f7e3088e-7d11-4d47-a0ff-fb128fbd687e",
   "metadata": {},
   "outputs": [
    {
     "data": {
      "image/png": "[encoded data removed]",
      "text/plain": [
       "<Figure size 640x480 with 1 Axes>"
      ]
     },
     "metadata": {},
     "output_type": "display_data"
    }
   ],
   "source": [
    "sns.regplot(x='displacement',y='mpg',data=df);"
   ]
  },
  {
   "cell_type": "markdown",
   "id": "07d87da3-9143-4727-b41e-b0a0f327f5ae",
   "metadata": {},
   "source": [
    "<h2>Define Target Variable y and Feature X</h2>"
   ]
  },
  {
   "cell_type": "code",
   "execution_count": 12,
   "id": "f1e20a4f-ff64-4771-a979-043cf051b13a",
   "metadata": {},
   "outputs": [
    {
     "data": {
      "text/plain": [
       "Index(['mpg', 'cylinders', 'displacement', 'horsepower', 'weight',\n",
       "       'acceleration', 'model_year', 'origin', 'name'],\n",
       "      dtype='object')"
      ]
     },
     "execution_count": 12,
     "metadata": {},
     "output_type": "execute_result"
    }
   ],
   "source": [
    "df.columns"
   ]
  },
  {
   "cell_type": "code",
   "execution_count": 13,
   "id": "960fdf46-e5da-4cd2-b67d-4f901941feb7",
   "metadata": {},
   "outputs": [],
   "source": [
    "y=df['mpg']"
   ]
  },
  {
   "cell_type": "code",
   "execution_count": 14,
   "id": "35a80bbb-54b4-401e-a85f-c037b679f82a",
   "metadata": {},
   "outputs": [
    {
     "data": {
      "text/plain": [
       "(392,)"
      ]
     },
     "execution_count": 14,
     "metadata": {},
     "output_type": "execute_result"
    }
   ],
   "source": [
    "y.shape"
   ]
  },
  {
   "cell_type": "code",
   "execution_count": 15,
   "id": "9bdd2a9d-311b-4d60-8c23-25522383ee78",
   "metadata": {},
   "outputs": [],
   "source": [
    "X=df[['displacement','horsepower','weight','acceleration']]"
   ]
  },
  {
   "cell_type": "code",
   "execution_count": 16,
   "id": "5568aaae-bfce-4ce1-81fd-a832521fee6c",
   "metadata": {},
   "outputs": [
    {
     "data": {
      "text/plain": [
       "(392, 4)"
      ]
     },
     "execution_count": 16,
     "metadata": {},
     "output_type": "execute_result"
    }
   ],
   "source": [
    "X.shape"
   ]
  },
  {
   "cell_type": "code",
   "execution_count": 17,
   "id": "7fe86fad-60e3-46e6-b344-3a11d4acb096",
   "metadata": {},
   "outputs": [
    {
     "data": {
      "text/html": [
       "<div>\n",
       "<style scoped>\n",
       "    .dataframe tbody tr th:only-of-type {\n",
       "        vertical-align: middle;\n",
       "    }\n",
       "\n",
       "    .dataframe tbody tr th {\n",
       "        vertical-align: top;\n",
       "    }\n",
       "\n",
       "    .dataframe thead th {\n",
       "        text-align: right;\n",
       "    }\n",
       "</style>\n",
       "<table border=\"1\" class=\"dataframe\">\n",
       "  <thead>\n",
       "    <tr style=\"text-align: right;\">\n",
       "      <th></th>\n",
       "      <th>displacement</th>\n",
       "      <th>horsepower</th>\n",
       "      <th>weight</th>\n",
       "      <th>acceleration</th>\n",
       "    </tr>\n",
       "  </thead>\n",
       "  <tbody>\n",
       "    <tr>\n",
       "      <th>0</th>\n",
       "      <td>307.0</td>\n",
       "      <td>130.0</td>\n",
       "      <td>3504</td>\n",
       "      <td>12.0</td>\n",
       "    </tr>\n",
       "    <tr>\n",
       "      <th>1</th>\n",
       "      <td>350.0</td>\n",
       "      <td>165.0</td>\n",
       "      <td>3693</td>\n",
       "      <td>11.5</td>\n",
       "    </tr>\n",
       "    <tr>\n",
       "      <th>2</th>\n",
       "      <td>318.0</td>\n",
       "      <td>150.0</td>\n",
       "      <td>3436</td>\n",
       "      <td>11.0</td>\n",
       "    </tr>\n",
       "    <tr>\n",
       "      <th>3</th>\n",
       "      <td>304.0</td>\n",
       "      <td>150.0</td>\n",
       "      <td>3433</td>\n",
       "      <td>12.0</td>\n",
       "    </tr>\n",
       "    <tr>\n",
       "      <th>4</th>\n",
       "      <td>302.0</td>\n",
       "      <td>140.0</td>\n",
       "      <td>3449</td>\n",
       "      <td>10.5</td>\n",
       "    </tr>\n",
       "    <tr>\n",
       "      <th>...</th>\n",
       "      <td>...</td>\n",
       "      <td>...</td>\n",
       "      <td>...</td>\n",
       "      <td>...</td>\n",
       "    </tr>\n",
       "    <tr>\n",
       "      <th>393</th>\n",
       "      <td>140.0</td>\n",
       "      <td>86.0</td>\n",
       "      <td>2790</td>\n",
       "      <td>15.6</td>\n",
       "    </tr>\n",
       "    <tr>\n",
       "      <th>394</th>\n",
       "      <td>97.0</td>\n",
       "      <td>52.0</td>\n",
       "      <td>2130</td>\n",
       "      <td>24.6</td>\n",
       "    </tr>\n",
       "    <tr>\n",
       "      <th>395</th>\n",
       "      <td>135.0</td>\n",
       "      <td>84.0</td>\n",
       "      <td>2295</td>\n",
       "      <td>11.6</td>\n",
       "    </tr>\n",
       "    <tr>\n",
       "      <th>396</th>\n",
       "      <td>120.0</td>\n",
       "      <td>79.0</td>\n",
       "      <td>2625</td>\n",
       "      <td>18.6</td>\n",
       "    </tr>\n",
       "    <tr>\n",
       "      <th>397</th>\n",
       "      <td>119.0</td>\n",
       "      <td>82.0</td>\n",
       "      <td>2720</td>\n",
       "      <td>19.4</td>\n",
       "    </tr>\n",
       "  </tbody>\n",
       "</table>\n",
       "<p>392 rows × 4 columns</p>\n",
       "</div>"
      ],
      "text/plain": [
       "     displacement  horsepower  weight  acceleration\n",
       "0           307.0       130.0    3504          12.0\n",
       "1           350.0       165.0    3693          11.5\n",
       "2           318.0       150.0    3436          11.0\n",
       "3           304.0       150.0    3433          12.0\n",
       "4           302.0       140.0    3449          10.5\n",
       "..            ...         ...     ...           ...\n",
       "393         140.0        86.0    2790          15.6\n",
       "394          97.0        52.0    2130          24.6\n",
       "395         135.0        84.0    2295          11.6\n",
       "396         120.0        79.0    2625          18.6\n",
       "397         119.0        82.0    2720          19.4\n",
       "\n",
       "[392 rows x 4 columns]"
      ]
     },
     "execution_count": 17,
     "metadata": {},
     "output_type": "execute_result"
    }
   ],
   "source": [
    "X"
   ]
  },
  {
   "cell_type": "markdown",
   "id": "e307b06b-9308-4e40-9851-b05b1d3fb195",
   "metadata": {},
   "source": [
    "<h2>Scaling Data</h2>"
   ]
  },
  {
   "cell_type": "code",
   "execution_count": 18,
   "id": "3c930965-fb7e-4b4e-b249-d6ddd96d98c9",
   "metadata": {},
   "outputs": [],
   "source": [
    "from sklearn.preprocessing import StandardScaler"
   ]
  },
  {
   "cell_type": "code",
   "execution_count": 19,
   "id": "9ecd7378-cc3e-4761-bf4f-d543c5cdb65e",
   "metadata": {},
   "outputs": [],
   "source": [
    "ss=StandardScaler()"
   ]
  },
  {
   "cell_type": "code",
   "execution_count": 20,
   "id": "e2257623-01ba-416f-a5bd-c28290951a64",
   "metadata": {},
   "outputs": [],
   "source": [
    "X=ss.fit_transform(X)"
   ]
  },
  {
   "cell_type": "code",
   "execution_count": 21,
   "id": "9c8f6dcb-1001-4cd0-b4ee-b83be4484c88",
   "metadata": {},
   "outputs": [
    {
     "data": {
      "text/plain": [
       "array([[ 1.07728956,  0.66413273,  0.62054034, -1.285258  ],\n",
       "       [ 1.48873169,  1.57459447,  0.84333403, -1.46672362],\n",
       "       [ 1.1825422 ,  1.18439658,  0.54038176, -1.64818924],\n",
       "       ...,\n",
       "       [-0.56847897, -0.53247413, -0.80463202, -1.4304305 ],\n",
       "       [-0.7120053 , -0.66254009, -0.41562716,  1.11008813],\n",
       "       [-0.72157372, -0.58450051, -0.30364091,  1.40043312]])"
      ]
     },
     "execution_count": 21,
     "metadata": {},
     "output_type": "execute_result"
    }
   ],
   "source": [
    "X"
   ]
  },
  {
   "cell_type": "code",
   "execution_count": 22,
   "id": "526f2d06-924a-48d6-ab8e-e939a01b36b7",
   "metadata": {},
   "outputs": [
    {
     "data": {
      "text/html": [
       "<div>\n",
       "<style scoped>\n",
       "    .dataframe tbody tr th:only-of-type {\n",
       "        vertical-align: middle;\n",
       "    }\n",
       "\n",
       "    .dataframe tbody tr th {\n",
       "        vertical-align: top;\n",
       "    }\n",
       "\n",
       "    .dataframe thead th {\n",
       "        text-align: right;\n",
       "    }\n",
       "</style>\n",
       "<table border=\"1\" class=\"dataframe\">\n",
       "  <thead>\n",
       "    <tr style=\"text-align: right;\">\n",
       "      <th></th>\n",
       "      <th>0</th>\n",
       "      <th>1</th>\n",
       "      <th>2</th>\n",
       "      <th>3</th>\n",
       "    </tr>\n",
       "  </thead>\n",
       "  <tbody>\n",
       "    <tr>\n",
       "      <th>count</th>\n",
       "      <td>3.920000e+02</td>\n",
       "      <td>3.920000e+02</td>\n",
       "      <td>3.920000e+02</td>\n",
       "      <td>3.920000e+02</td>\n",
       "    </tr>\n",
       "    <tr>\n",
       "      <th>mean</th>\n",
       "      <td>-2.537653e-16</td>\n",
       "      <td>-4.392745e-16</td>\n",
       "      <td>5.607759e-17</td>\n",
       "      <td>6.117555e-16</td>\n",
       "    </tr>\n",
       "    <tr>\n",
       "      <th>std</th>\n",
       "      <td>1.001278e+00</td>\n",
       "      <td>1.001278e+00</td>\n",
       "      <td>1.001278e+00</td>\n",
       "      <td>1.001278e+00</td>\n",
       "    </tr>\n",
       "    <tr>\n",
       "      <th>min</th>\n",
       "      <td>-1.209563e+00</td>\n",
       "      <td>-1.520975e+00</td>\n",
       "      <td>-1.608575e+00</td>\n",
       "      <td>-2.736983e+00</td>\n",
       "    </tr>\n",
       "    <tr>\n",
       "      <th>25%</th>\n",
       "      <td>-8.555316e-01</td>\n",
       "      <td>-7.665929e-01</td>\n",
       "      <td>-8.868535e-01</td>\n",
       "      <td>-6.410551e-01</td>\n",
       "    </tr>\n",
       "    <tr>\n",
       "      <th>50%</th>\n",
       "      <td>-4.153842e-01</td>\n",
       "      <td>-2.853488e-01</td>\n",
       "      <td>-2.052109e-01</td>\n",
       "      <td>-1.499869e-02</td>\n",
       "    </tr>\n",
       "    <tr>\n",
       "      <th>75%</th>\n",
       "      <td>7.782764e-01</td>\n",
       "      <td>5.600800e-01</td>\n",
       "      <td>7.510927e-01</td>\n",
       "      <td>5.384714e-01</td>\n",
       "    </tr>\n",
       "    <tr>\n",
       "      <th>max</th>\n",
       "      <td>2.493416e+00</td>\n",
       "      <td>3.265452e+00</td>\n",
       "      <td>2.549061e+00</td>\n",
       "      <td>3.360262e+00</td>\n",
       "    </tr>\n",
       "  </tbody>\n",
       "</table>\n",
       "</div>"
      ],
      "text/plain": [
       "                  0             1             2             3\n",
       "count  3.920000e+02  3.920000e+02  3.920000e+02  3.920000e+02\n",
       "mean  -2.537653e-16 -4.392745e-16  5.607759e-17  6.117555e-16\n",
       "std    1.001278e+00  1.001278e+00  1.001278e+00  1.001278e+00\n",
       "min   -1.209563e+00 -1.520975e+00 -1.608575e+00 -2.736983e+00\n",
       "25%   -8.555316e-01 -7.665929e-01 -8.868535e-01 -6.410551e-01\n",
       "50%   -4.153842e-01 -2.853488e-01 -2.052109e-01 -1.499869e-02\n",
       "75%    7.782764e-01  5.600800e-01  7.510927e-01  5.384714e-01\n",
       "max    2.493416e+00  3.265452e+00  2.549061e+00  3.360262e+00"
      ]
     },
     "execution_count": 22,
     "metadata": {},
     "output_type": "execute_result"
    }
   ],
   "source": [
    "pd.DataFrame(X).describe()"
   ]
  },
  {
   "cell_type": "markdown",
   "id": "ede88628-1e53-4802-9b82-e3259c36069a",
   "metadata": {},
   "source": [
    "<b>After Standardization Mean is Zero and Standard Deviation is One</b> "
   ]
  },
  {
   "cell_type": "markdown",
   "id": "50b71cbf-8029-4f2d-922d-a7aa2de49272",
   "metadata": {},
   "source": [
    "<h2>Train Test Split Data</h2>"
   ]
  },
  {
   "cell_type": "code",
   "execution_count": 23,
   "id": "87fd0cea-9675-4da7-9352-bcbf06ae46fa",
   "metadata": {},
   "outputs": [],
   "source": [
    "from sklearn.model_selection import train_test_split"
   ]
  },
  {
   "cell_type": "code",
   "execution_count": 24,
   "id": "65d11d2d-52f7-4541-a885-14082c41d692",
   "metadata": {},
   "outputs": [],
   "source": [
    "X_train,X_test,y_train,y_test=train_test_split(X,y,train_size=0.7,random_state=2529)"
   ]
  },
  {
   "cell_type": "code",
   "execution_count": 25,
   "id": "f642e658-0b72-43e5-87ea-b5b8acb0f1a9",
   "metadata": {},
   "outputs": [
    {
     "data": {
      "text/plain": [
       "((274, 4), (118, 4), (274,), (118,))"
      ]
     },
     "execution_count": 25,
     "metadata": {},
     "output_type": "execute_result"
    }
   ],
   "source": [
    "X_train.shape,X_test.shape,y_train.shape,y_test.shape"
   ]
  },
  {
   "cell_type": "markdown",
   "id": "73349181-40fb-41d7-83cb-bba886848a5a",
   "metadata": {},
   "source": [
    "<h2>Linear Regression Model</h2>"
   ]
  },
  {
   "cell_type": "code",
   "execution_count": 26,
   "id": "6c6130b0-7fb1-4ae9-b099-860101176bb0",
   "metadata": {},
   "outputs": [],
   "source": [
    "from sklearn.linear_model import LinearRegression"
   ]
  },
  {
   "cell_type": "code",
   "execution_count": 27,
   "id": "bff261ab-2403-4aca-b64c-05e44f50f8f9",
   "metadata": {},
   "outputs": [],
   "source": [
    "lr=LinearRegression()"
   ]
  },
  {
   "cell_type": "code",
   "execution_count": 28,
   "id": "d079b146-ac0b-4010-b895-0d9478cb8805",
   "metadata": {},
   "outputs": [
    {
     "data": {
      "text/plain": [
       "LinearRegression()"
      ]
     },
     "execution_count": 28,
     "metadata": {},
     "output_type": "execute_result"
    }
   ],
   "source": [
    "lr.fit(X_train,y_train)"
   ]
  },
  {
   "cell_type": "code",
   "execution_count": 29,
   "id": "9d7dcd5d-9d86-438e-a126-ae233c596852",
   "metadata": {},
   "outputs": [
    {
     "data": {
      "text/plain": [
       "23.485738559737584"
      ]
     },
     "execution_count": 29,
     "metadata": {},
     "output_type": "execute_result"
    }
   ],
   "source": [
    "lr.intercept_"
   ]
  },
  {
   "cell_type": "code",
   "execution_count": 30,
   "id": "fda7d51d-ecd7-4453-8dfa-af490dcd5dfa",
   "metadata": {},
   "outputs": [
    {
     "data": {
      "text/plain": [
       "array([-1.05767743, -1.68734727, -4.10787617, -0.11495177])"
      ]
     },
     "execution_count": 30,
     "metadata": {},
     "output_type": "execute_result"
    }
   ],
   "source": [
    "lr.coef_"
   ]
  },
  {
   "cell_type": "markdown",
   "id": "62203dab-d3a2-414d-a1c8-727783420763",
   "metadata": {},
   "source": [
    "<b>Mileage=23.4-1.05 Displacement-1.68 Horsepower-4.10 Weight- 0.115 Acceleration + error</b>"
   ]
  },
  {
   "cell_type": "markdown",
   "id": "19531dd9-77be-4e06-b8e0-026581e579fe",
   "metadata": {},
   "source": [
    "<h2>Predict Test Data</h2>"
   ]
  },
  {
   "cell_type": "code",
   "execution_count": 31,
   "id": "2f3df4b7-46ec-4a4a-add1-48292529455a",
   "metadata": {},
   "outputs": [],
   "source": [
    "y_pred=lr.predict(X_test)"
   ]
  },
  {
   "cell_type": "code",
   "execution_count": 32,
   "id": "4db2eaec-1ef9-42d8-ab55-da09acb665c4",
   "metadata": {},
   "outputs": [
    {
     "data": {
      "text/plain": [
       "array([18.51865637, 15.09305675, 14.30128789, 23.6753321 , 29.7546115 ,\n",
       "       23.68796629, 26.61066644, 24.56692437, 15.06260986, 11.94312046,\n",
       "       24.08050053, 27.96518468, 31.66130278, 31.01309132, 18.32428976,\n",
       "       19.32795009, 28.08847536, 32.1506879 , 31.15859692, 27.15792144,\n",
       "       18.82433097, 22.54580176, 26.15598115, 32.36393869, 20.74377679,\n",
       "        8.78027518, 22.19699435, 18.20614294, 25.00052718, 15.26421552,\n",
       "       23.13441082, 17.10542257,  9.87180062, 30.00790415, 20.41204655,\n",
       "       29.11860245, 24.4305187 , 21.72601835, 10.51174626, 13.12426391,\n",
       "       21.41938406, 19.96113872,  6.19146626, 17.79025345, 22.5493033 ,\n",
       "       29.34765021, 13.4861847 , 25.88852083, 29.40406946, 22.41841964,\n",
       "       22.07684766, 16.46575802, 24.06290693, 30.12890046, 10.11318121,\n",
       "        9.85011438, 28.07543852, 23.41426617, 20.08501128, 30.68234133,\n",
       "       20.92026393, 26.78370281, 22.9078744 , 14.15936872, 24.6439883 ,\n",
       "       26.95515832, 15.25709393, 24.11272087, 30.80980589, 14.9770217 ,\n",
       "       27.67836372, 24.2372919 , 10.92177228, 30.22858779, 30.88687365,\n",
       "       27.33992044, 31.18447082, 10.8873597 , 27.63510608, 16.49231363,\n",
       "       25.63229888, 29.49776285, 14.90393439, 32.78670687, 30.37325244,\n",
       "       30.9262743 , 14.71702373, 27.09633246, 26.69933806, 29.06424799,\n",
       "       32.45810182, 29.44846898, 31.61239999, 31.57891837, 21.46542321,\n",
       "       31.76739191, 26.28605476, 28.96419915, 31.09628395, 24.80549594,\n",
       "       18.76490961, 23.28043777, 23.04466919, 22.14143162, 15.95854367,\n",
       "       28.62870918, 25.58809869, 11.4040908 , 25.73334842, 30.83500051,\n",
       "       21.94176255, 15.34532941, 30.37399213, 28.7620624 , 29.3639931 ,\n",
       "       29.10476703, 20.44662365, 28.11466839])"
      ]
     },
     "execution_count": 32,
     "metadata": {},
     "output_type": "execute_result"
    }
   ],
   "source": [
    "y_pred"
   ]
  },
  {
   "cell_type": "markdown",
   "id": "103cf10e-9e26-422a-982c-949e7450231f",
   "metadata": {},
   "source": [
    "<h2>Model Accuracy</h2>"
   ]
  },
  {
   "cell_type": "code",
   "execution_count": 33,
   "id": "8a661571-5392-456a-9d8d-392462e35e41",
   "metadata": {},
   "outputs": [],
   "source": [
    "from sklearn.metrics import mean_absolute_error,mean_absolute_percentage_error,r2_score"
   ]
  },
  {
   "cell_type": "code",
   "execution_count": 34,
   "id": "4ef19e8b-f54b-4319-b0c7-f91c1e4c4f68",
   "metadata": {},
   "outputs": [
    {
     "data": {
      "text/plain": [
       "3.32869686432441"
      ]
     },
     "execution_count": 34,
     "metadata": {},
     "output_type": "execute_result"
    }
   ],
   "source": [
    "mean_absolute_error(y_test,y_pred)"
   ]
  },
  {
   "cell_type": "code",
   "execution_count": 35,
   "id": "569b6337-af0f-477b-a006-0beeb37e8671",
   "metadata": {},
   "outputs": [
    {
     "data": {
      "text/plain": [
       "0.14713035779536746"
      ]
     },
     "execution_count": 35,
     "metadata": {},
     "output_type": "execute_result"
    }
   ],
   "source": [
    "mean_absolute_percentage_error(y_test,y_pred)"
   ]
  },
  {
   "cell_type": "code",
   "execution_count": 36,
   "id": "771fb032-a60a-466b-ba9d-855317a302d2",
   "metadata": {},
   "outputs": [
    {
     "data": {
      "text/plain": [
       "0.7031250746717692"
      ]
     },
     "execution_count": 36,
     "metadata": {},
     "output_type": "execute_result"
    }
   ],
   "source": [
    "r2_score(y_test,y_pred)"
   ]
  },
  {
   "cell_type": "markdown",
   "id": "4077d797-5bc5-4cd0-bd0d-a30e301de289",
   "metadata": {},
   "source": [
    "<h2>Polynomial Regression</h2>"
   ]
  },
  {
   "cell_type": "code",
   "execution_count": 37,
   "id": "b0c03210-8fed-4f3d-a6ca-011205070912",
   "metadata": {},
   "outputs": [],
   "source": [
    "from sklearn.preprocessing import PolynomialFeatures"
   ]
  },
  {
   "cell_type": "code",
   "execution_count": 38,
   "id": "7a9e68b6-1acc-4a4c-9f3a-f461ecb0cadb",
   "metadata": {},
   "outputs": [],
   "source": [
    "poly=PolynomialFeatures(degree=2, interaction_only=True,include_bias=False)"
   ]
  },
  {
   "cell_type": "code",
   "execution_count": 39,
   "id": "d4730a95-d8cd-41d9-8943-3fe945c454e3",
   "metadata": {},
   "outputs": [],
   "source": [
    "X_train2=poly.fit_transform(X_train)"
   ]
  },
  {
   "cell_type": "code",
   "execution_count": 40,
   "id": "b739999d-523e-4e35-a08c-c761d4ee3886",
   "metadata": {},
   "outputs": [],
   "source": [
    "X_test2=poly.fit_transform(X_test)"
   ]
  },
  {
   "cell_type": "code",
   "execution_count": 41,
   "id": "60712a74-43c0-429a-8fbb-14f9f9295335",
   "metadata": {},
   "outputs": [
    {
     "data": {
      "text/plain": [
       "LinearRegression()"
      ]
     },
     "execution_count": 41,
     "metadata": {},
     "output_type": "execute_result"
    }
   ],
   "source": [
    "lr.fit(X_train2,y_train)"
   ]
  },
  {
   "cell_type": "code",
   "execution_count": 42,
   "id": "9066fad9-338c-4fe4-9d5c-400985e2cb41",
   "metadata": {},
   "outputs": [
    {
     "data": {
      "text/plain": [
       "21.273364500637662"
      ]
     },
     "execution_count": 42,
     "metadata": {},
     "output_type": "execute_result"
    }
   ],
   "source": [
    "lr.intercept_"
   ]
  },
  {
   "cell_type": "code",
   "execution_count": 43,
   "id": "b5ef5cea-f0de-43d0-8b05-7e581af0868d",
   "metadata": {},
   "outputs": [
    {
     "data": {
      "text/plain": [
       "array([-2.76070596, -5.00559628, -1.36884133, -0.81225214,  1.24596571,\n",
       "       -0.12475017, -0.90542822,  1.35064048, -0.17337823,  1.41680398])"
      ]
     },
     "execution_count": 43,
     "metadata": {},
     "output_type": "execute_result"
    }
   ],
   "source": [
    "lr.coef_"
   ]
  },
  {
   "cell_type": "code",
   "execution_count": 44,
   "id": "37a3de44-d63b-4858-8e99-48439c54672a",
   "metadata": {},
   "outputs": [],
   "source": [
    "y_pred_poly=lr.predict(X_test2)"
   ]
  },
  {
   "cell_type": "markdown",
   "id": "4fb9bcdd-93a6-4f10-8e5a-009a18068664",
   "metadata": {},
   "source": [
    "<h2>Model Accuracy</h2>"
   ]
  },
  {
   "cell_type": "code",
   "execution_count": 45,
   "id": "14584428-84c5-49ef-af59-04f6f7df2108",
   "metadata": {},
   "outputs": [],
   "source": [
    "from sklearn.metrics import mean_absolute_error,mean_absolute_percentage_error,r2_score"
   ]
  },
  {
   "cell_type": "code",
   "execution_count": 46,
   "id": "64dc3239-5dcf-431b-a872-8b781d4490d4",
   "metadata": {},
   "outputs": [
    {
     "data": {
      "text/plain": [
       "2.788714772029599"
      ]
     },
     "execution_count": 46,
     "metadata": {},
     "output_type": "execute_result"
    }
   ],
   "source": [
    "mean_absolute_error(y_test,y_pred_poly)"
   ]
  },
  {
   "cell_type": "code",
   "execution_count": 47,
   "id": "c1c00890-4a8a-4239-b10f-08ab0f940ca4",
   "metadata": {},
   "outputs": [
    {
     "data": {
      "text/plain": [
       "0.12074018342938699"
      ]
     },
     "execution_count": 47,
     "metadata": {},
     "output_type": "execute_result"
    }
   ],
   "source": [
    "mean_absolute_percentage_error(y_test,y_pred_poly)"
   ]
  },
  {
   "cell_type": "code",
   "execution_count": 48,
   "id": "3d09f6e5-6fb2-465d-bc72-1d781d1a74ad",
   "metadata": {},
   "outputs": [
    {
     "data": {
      "text/plain": [
       "0.7461731314563801"
      ]
     },
     "execution_count": 48,
     "metadata": {},
     "output_type": "execute_result"
    }
   ],
   "source": [
    "r2_score(y_test,y_pred_poly)"
   ]
  },
  {
   "cell_type": "code",
   "execution_count": null,
   "id": "9c14ac88-d4b2-4112-a5d8-fc93d8aec57a",
   "metadata": {},
   "outputs": [],
   "source": []
  }
 ],
 "metadata": {
  "kernelspec": {
   "display_name": "Python 3 (ipykernel)",
   "language": "python",
   "name": "python3"
  },
  "language_info": {
   "codemirror_mode": {
    "name": "ipython",
    "version": 3
   },
   "file_extension": ".py",
   "mimetype": "text/x-python",
   "name": "python",
   "nbconvert_exporter": "python",
   "pygments_lexer": "ipython3",
   "version": "3.9.12"
  }
 },
 "nbformat": 4,
 "nbformat_minor": 5
}
